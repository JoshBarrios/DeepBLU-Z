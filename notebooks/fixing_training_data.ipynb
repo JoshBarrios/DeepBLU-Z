{
 "cells": [
  {
   "cell_type": "markdown",
   "metadata": {
    "collapsed": true,
    "pycharm": {
     "name": "#%% md\n"
    }
   },
   "source": [
    "### Josh Barrios 07/18/20\n",
    "\n",
    "Editing training datasets"
   ]
  },
  {
   "cell_type": "markdown",
   "source": [
    "Fixing Danionella training data track points csv. Need to switch rows of x and y data"
   ],
   "metadata": {
    "collapsed": false,
    "pycharm": {
     "name": "#%% md\n"
    }
   }
  },
  {
   "cell_type": "code",
   "execution_count": 12,
   "outputs": [],
   "source": [
    "csv_path = '../data/danionella_training_data/trck_pts.csv'\n",
    "\n",
    "# Import tracking points\n",
    "import numpy as np\n",
    "from numpy import genfromtxt\n",
    "trck_pts = genfromtxt(csv_path, delimiter=',')\n",
    "\n",
    "trck_pts_fixed = np.copy(trck_pts)\n",
    "trck_pts_fixed[0, :] = trck_pts[1, :]\n",
    "trck_pts_fixed[1, :] = trck_pts[0, :]\n",
    "\n",
    "np.savetxt('../data/danionella_training_data/trck_pts.csv', trck_pts_fixed, delimiter=',')"
   ],
   "metadata": {
    "collapsed": false,
    "pycharm": {
     "name": "#%%\n"
    }
   }
  },
  {
   "cell_type": "code",
   "execution_count": null,
   "outputs": [],
   "source": [
    "# Check against  original"
   ],
   "metadata": {
    "collapsed": false,
    "pycharm": {
     "name": "#%%\n"
    }
   }
  }
 ],
 "metadata": {
  "kernelspec": {
   "display_name": "Python 3",
   "language": "python",
   "name": "python3"
  },
  "language_info": {
   "codemirror_mode": {
    "name": "ipython",
    "version": 2
   },
   "file_extension": ".py",
   "mimetype": "text/x-python",
   "name": "python",
   "nbconvert_exporter": "python",
   "pygments_lexer": "ipython2",
   "version": "2.7.6"
  }
 },
 "nbformat": 4,
 "nbformat_minor": 0
}