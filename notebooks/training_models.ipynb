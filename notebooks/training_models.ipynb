{
 "cells": [
  {
   "cell_type": "markdown",
   "metadata": {
    "collapsed": true,
    "pycharm": {
     "name": "#%% md\n"
    }
   },
   "source": [
    "Josh Barrios 09/09/2020\n",
    "\n",
    "Training DeepBLU-Z models"
   ]
  },
  {
   "cell_type": "markdown",
   "source": [
    "Train resnet18 model on Danionella data"
   ],
   "metadata": {
    "collapsed": false,
    "pycharm": {
     "name": "#%% md\n"
    }
   }
  },
  {
   "cell_type": "code",
   "execution_count": 3,
   "outputs": [
    {
     "name": "stdout",
     "output_type": "stream",
     "text": [
      "GPU enabled\r\n",
      "2020-09-09 12:58:27,268:INFO: Start with arguments Namespace(backbone='resnet18', batch_size=16, datapath=PosixPath('../data/danionella_training_data'), epochs=50, load='../models/082820/resnet18_50epochs', lr=0.01, lr_decay=0.001, lr_decay_step=5, mode='train', num_pts=8, retrain=True, save='../models/090920/resnet18_50epochs_danionella', seed=995184371, shuffle=True, target='./data/test_data/image8.tif', transform=False, val_split=0.2)\r\n",
      "Traceback (most recent call last):\r\n",
      "  File \"../main.py\", line 373, in <module>\r\n",
      "    main(args)\r\n",
      "  File \"../main.py\", line 342, in main\r\n",
      "    model.load_state_dict(torch.load(args.load))\r\n",
      "  File \"/home/userman/.virtualenvs/DeepBLU-Z/lib/python3.6/site-packages/torch/nn/modules/module.py\", line 847, in load_state_dict\r\n",
      "    self.__class__.__name__, \"\\n\\t\".join(error_msgs)))\r\n",
      "RuntimeError: Error(s) in loading state_dict for Model:\r\n",
      "\tsize mismatch for features.conv1.weight: copying a param with shape torch.Size([64, 1, 7, 7]) from checkpoint, the shape in current model is torch.Size([64, 3, 7, 7]).\r\n"
     ]
    }
   ],
   "source": [
    "! python3 ../main.py -m train --save ../models/090920/resnet18_50epochs_danionella --datapath ../data/danionella_training_data --load ../models/082820/resnet18_50epochs  --retrain true"
   ],
   "metadata": {
    "collapsed": false,
    "pycharm": {
     "name": "#%%\n"
    }
   }
  }
 ],
 "metadata": {
  "kernelspec": {
   "display_name": "Python 3",
   "language": "python",
   "name": "python3"
  },
  "language_info": {
   "codemirror_mode": {
    "name": "ipython",
    "version": 2
   },
   "file_extension": ".py",
   "mimetype": "text/x-python",
   "name": "python",
   "nbconvert_exporter": "python",
   "pygments_lexer": "ipython2",
   "version": "2.7.6"
  }
 },
 "nbformat": 4,
 "nbformat_minor": 0
}